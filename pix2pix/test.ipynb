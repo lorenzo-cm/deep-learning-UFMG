{
 "cells": [
  {
   "cell_type": "code",
   "execution_count": 1,
   "metadata": {},
   "outputs": [],
   "source": [
    "from models import Generator, Discriminator\n",
    "import torch\n",
    "from PIL import Image\n",
    "import torchvision.transforms as T\n",
    "import matplotlib.pyplot as plt\n",
    "from data.dataloader import valid_dataloader, train_dataloader\n",
    "from data.plot import gen_img_plot"
   ]
  },
  {
   "cell_type": "code",
   "execution_count": null,
   "metadata": {},
   "outputs": [],
   "source": [
    "device = torch.device('cuda' if torch.cuda.is_available() else 'cpu')\n",
    "\n",
    "G_model = Generator()\n",
    "G_state_dict = torch.load('best_G.pth', weights_only=True)\n",
    "G_model.load_state_dict(G_state_dict)\n",
    "G_model.to(device)\n",
    "\n",
    "D_model = Discriminator()\n",
    "D_state_dict = torch.load('best_D.pth', weights_only=True)\n",
    "D_model.load_state_dict(D_state_dict)\n",
    "D_model.to(device)\n",
    "\n",
    "()"
   ]
  },
  {
   "cell_type": "code",
   "execution_count": null,
   "metadata": {},
   "outputs": [],
   "source": [
    "image, mask = next(iter(valid_dataloader))\n",
    "image = image.to(device)\n",
    "mask = mask.to(device)\n",
    "output, pred_image = gen_img_plot(G_model, image, mask, 0, save=False)"
   ]
  },
  {
   "cell_type": "code",
   "execution_count": null,
   "metadata": {},
   "outputs": [],
   "source": [
    "plt.imshow(((mask.to('cpu')[0] + 1)/2).permute(1,2,0))\n",
    "plt.show()\n",
    "plt.imshow(((image.to('cpu')[0] + 1)/2).permute(1,2,0))\n",
    "plt.show()\n",
    "plt.imshow((pred_image[0] + 1)/2)\n",
    "plt.show()"
   ]
  },
  {
   "cell_type": "code",
   "execution_count": null,
   "metadata": {},
   "outputs": [],
   "source": [
    "D_model(mask[0].unsqueeze(0), mask[0].unsqueeze(0))"
   ]
  }
 ],
 "metadata": {
  "kernelspec": {
   "display_name": "Python 3",
   "language": "python",
   "name": "python3"
  },
  "language_info": {
   "codemirror_mode": {
    "name": "ipython",
    "version": 3
   },
   "file_extension": ".py",
   "mimetype": "text/x-python",
   "name": "python",
   "nbconvert_exporter": "python",
   "pygments_lexer": "ipython3",
   "version": "3.10.16"
  }
 },
 "nbformat": 4,
 "nbformat_minor": 2
}
