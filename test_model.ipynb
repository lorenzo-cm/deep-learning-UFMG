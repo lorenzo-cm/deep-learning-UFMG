{
 "cells": [
  {
   "cell_type": "markdown",
   "metadata": {},
   "source": [
    "# Imports"
   ]
  },
  {
   "cell_type": "code",
   "execution_count": null,
   "metadata": {},
   "outputs": [],
   "source": [
    "from gensim.models import Word2Vec\n",
    "import matplotlib.pyplot as plt\n",
    "import numpy as np\n",
    "import pandas as pd\n",
    "\n",
    "from dataset import build_corpus"
   ]
  },
  {
   "cell_type": "markdown",
   "metadata": {},
   "source": [
    "# Configuration"
   ]
  },
  {
   "cell_type": "code",
   "execution_count": 2,
   "metadata": {},
   "outputs": [],
   "source": [
    "SIZE = 25000\n",
    "MODEL_NAME = 'model_25k_300_8_30_1'\n",
    "RELATIONS_CSV = 'questions-words.csv'\n",
    "\n",
    "model = Word2Vec.load(f'models/{MODEL_NAME}.model')"
   ]
  },
  {
   "cell_type": "markdown",
   "metadata": {},
   "source": [
    "# Word analogies"
   ]
  },
  {
   "cell_type": "code",
   "execution_count": 3,
   "metadata": {},
   "outputs": [],
   "source": [
    "def check_relation(row, model):\n",
    "    try:\n",
    "        word_one = row['word_one']\n",
    "        word_two = row['word_two']\n",
    "        word_three = row['word_three']\n",
    "        word_four = row['word_four']\n",
    "        \n",
    "        predicted_vector = model.wv[word_two] - model.wv[word_one] + model.wv[word_three]\n",
    "\n",
    "        most_similar = model.wv.similar_by_vector(predicted_vector, topn=5)\n",
    "        words_only = [word for word, similarity in most_similar]\n",
    "\n",
    "        return word_four in words_only, most_similar[0][0]\n",
    "    except KeyError:\n",
    "        return None, None\n",
    "\n",
    "def process_relations(df, model):\n",
    "    results = []\n",
    "\n",
    "    for _, row in df.iterrows():\n",
    "        is_correct, predicted_word = check_relation(row, model)\n",
    "        if predicted_word is not None:\n",
    "            results.append({\n",
    "                'row_id': row['row_id'],\n",
    "                'category': row['category'],\n",
    "                'word_one': row['word_one'],\n",
    "                'word_two': row['word_two'],\n",
    "                'word_three': row['word_three'],\n",
    "                'word_four': row['word_four'],\n",
    "                'is_correct': is_correct,\n",
    "                'predicted_word': predicted_word\n",
    "            })\n",
    "\n",
    "    return pd.DataFrame(results)\n",
    "\n",
    "csv_df = pd.read_csv(RELATIONS_CSV)\n",
    "df = process_relations(csv_df, model)\n",
    "\n",
    "word_analogy_acc = df['is_correct'].astype(int).sum()/len(df)"
   ]
  },
  {
   "cell_type": "markdown",
   "metadata": {},
   "source": [
    "# KL divergence"
   ]
  },
  {
   "cell_type": "code",
   "execution_count": 4,
   "metadata": {},
   "outputs": [],
   "source": [
    "arq = open(f'kl-{SIZE}.txt', 'r')\n",
    "content = arq.read()\n",
    "arq.close()\n",
    "\n",
    "kl_divergences = eval(content)"
   ]
  },
  {
   "cell_type": "code",
   "execution_count": null,
   "metadata": {},
   "outputs": [],
   "source": [
    "data = build_corpus(SIZE, return_fields=['corpus', 'word2idx', 'idx2word', 'word_count'],  load=True)\n",
    "corpus, w2idx, idx2w, wc = data['corpus'], data['word2idx'], data['idx2word'], data['word_count']\n",
    "filtered_words = {key: value for key, value in wc.items() if value >=10}"
   ]
  },
  {
   "cell_type": "markdown",
   "metadata": {},
   "source": [
    "## Visualizing the relation"
   ]
  },
  {
   "cell_type": "code",
   "execution_count": 6,
   "metadata": {},
   "outputs": [],
   "source": [
    "def norm(embedding):\n",
    "    return np.linalg.norm(embedding)\n",
    "\n",
    "data = [(norm(model.wv[word]) if word in model.wv else 0, kl_divergences[word]) for word in filtered_words.keys()]\n",
    "\n",
    "y = [data[i][1] for i in range(len(data)) if data[i][0] != 0]\n",
    "x = [data[i][0] for i in range(len(data)) if data[i][0] != 0]"
   ]
  },
  {
   "cell_type": "code",
   "execution_count": null,
   "metadata": {},
   "outputs": [],
   "source": [
    "plt.figure(figsize=(10, 6))\n",
    "\n",
    "scatter = plt.scatter(x, y, c=y, cmap='viridis', alpha=0.8, edgecolors='k', s=50)\n",
    "\n",
    "plt.title(\"Norma x Divergência KL\", fontsize=14)\n",
    "plt.xlabel(\"Norma do Vetor\", fontsize=12)\n",
    "plt.ylabel(\"Divergência KL\", fontsize=12)\n",
    "\n",
    "cbar = plt.colorbar(scatter)\n",
    "cbar.set_label(\"Divergência KL\", fontsize=12)\n",
    "\n",
    "plt.grid(True, linestyle='--', alpha=0.6)\n",
    "\n",
    "plt.show()"
   ]
  },
  {
   "cell_type": "code",
   "execution_count": 8,
   "metadata": {},
   "outputs": [],
   "source": [
    "with open(f'log/log-{MODEL_NAME}.txt', 'w') as f:\n",
    "    f.write(f\"*{MODEL_NAME}*\\n\")\n",
    "    f.write(f\"Word analogies accuracy: {word_analogy_acc:.2%}, {df['is_correct'].astype(int).sum()}/{len(df)}\\n\")\n",
    "    f.write(f\"Analogies CSV total len: {len(csv_df)}\\n\")"
   ]
  },
  {
   "cell_type": "markdown",
   "metadata": {},
   "source": [
    "## Regression"
   ]
  },
  {
   "cell_type": "code",
   "execution_count": 9,
   "metadata": {},
   "outputs": [],
   "source": [
    "from sklearn.linear_model import LinearRegression"
   ]
  },
  {
   "cell_type": "code",
   "execution_count": 10,
   "metadata": {},
   "outputs": [],
   "source": [
    "X = [item[0] for item in data]  # Todos os valores de norm(model.wv[word])\n",
    "y = [item[1] for item in data]"
   ]
  },
  {
   "cell_type": "code",
   "execution_count": null,
   "metadata": {},
   "outputs": [],
   "source": [
    "regression_model = LinearRegression()\n",
    "regression_model.fit(np.array(X).reshape(-1, 1), y)"
   ]
  },
  {
   "cell_type": "code",
   "execution_count": null,
   "metadata": {},
   "outputs": [],
   "source": [
    "print(\"Coeficiente:\", regression_model.coef_)"
   ]
  }
 ],
 "metadata": {
  "kernelspec": {
   "display_name": "llm",
   "language": "python",
   "name": "python3"
  },
  "language_info": {
   "codemirror_mode": {
    "name": "ipython",
    "version": 3
   },
   "file_extension": ".py",
   "mimetype": "text/x-python",
   "name": "python",
   "nbconvert_exporter": "python",
   "pygments_lexer": "ipython3",
   "version": "3.10.14"
  }
 },
 "nbformat": 4,
 "nbformat_minor": 2
}
